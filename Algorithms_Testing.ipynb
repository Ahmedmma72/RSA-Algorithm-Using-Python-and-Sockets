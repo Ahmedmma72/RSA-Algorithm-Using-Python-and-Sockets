{
 "cells": [
  {
   "cell_type": "code",
   "execution_count": null,
   "metadata": {},
   "outputs": [],
   "source": [
    "import random\n",
    "import utils\n",
    "from math import ceil\n",
    "import time\n",
    "import matplotlib.pyplot as plt\n"
   ]
  },
  {
   "cell_type": "code",
   "execution_count": null,
   "metadata": {},
   "outputs": [],
   "source": [
    "primeArray = utils.read_data('primes.txt')"
   ]
  },
  {
   "cell_type": "code",
   "execution_count": null,
   "metadata": {},
   "outputs": [],
   "source": [
    "def Encrypt(message, n, e):\n",
    "    cipher = \"\"\n",
    "    noChar = utils.getNumberOfChars(n)\n",
    "    maxCipherLength = len(str(n-1)) \n",
    "    for i in range(0, len(message), noChar):\n",
    "        blockToEncrypt = utils.ConvertToInt(message[:noChar]) #indexing outofbounds works fine in python\n",
    "        cipherdBlock = str(utils.PowerMod(blockToEncrypt, e, n))\n",
    "        if (len(cipherdBlock) < maxCipherLength):  #make sure all cipher blocks are the same length\n",
    "            cipherdBlock = cipherdBlock.zfill(maxCipherLength)\n",
    "        cipher += cipherdBlock\n",
    "        message = message[noChar:]\n",
    "    return cipher\n"
   ]
  },
  {
   "cell_type": "code",
   "execution_count": null,
   "metadata": {},
   "outputs": [],
   "source": [
    "def Decrypt(cipher,n, d):\n",
    "    maxCipherLength = len(str(n-1)) \n",
    "    message = \"\"\n",
    "    for i in range(0, len(cipher), maxCipherLength):\n",
    "        blockToDecrypt = int(cipher[:maxCipherLength])\n",
    "        message += utils.ConvertToStr(utils.PowerMod(blockToDecrypt, d, n))\n",
    "        cipher = cipher[maxCipherLength:]\n",
    "    return message"
   ]
  },
  {
   "cell_type": "code",
   "execution_count": null,
   "metadata": {},
   "outputs": [],
   "source": [
    "\n",
    "#implement RSA Algorithm to generate public and private key\n",
    "def RSA_key_generator(p,q):\n",
    "    n = p*q\n",
    "    phi = (p-1)*(q-1)\n",
    "    e = random.randint(2,phi-1)     #choose e randomly from 1 to phi\n",
    "    while utils.GCD(e,phi) != 1:\n",
    "        e = random.randint(2,phi-1)\n",
    "    d = utils.InverseModulo(e,phi)\n",
    "    return (e,d,n)"
   ]
  },
  {
   "cell_type": "code",
   "execution_count": null,
   "metadata": {},
   "outputs": [],
   "source": [
    "#generate two random integers from the array of prime numbers\n",
    "def generate_two_prime_numbers(prime_array):\n",
    "    p = random.choice(prime_array)\n",
    "    q = random.choice(prime_array)\n",
    "    while p == q:\n",
    "        q = random.choice(prime_array)\n",
    "    return (p,q)"
   ]
  },
  {
   "cell_type": "code",
   "execution_count": null,
   "metadata": {},
   "outputs": [],
   "source": [
    "#genertate two random integers from the array of prime numbers\n",
    "(p,q) = generate_two_prime_numbers(primeArray)\n",
    "\n",
    "#generate public and private key\n",
    "(e,d,n) = RSA_key_generator(p,q)\n",
    "\n",
    "\n",
    "\n",
    "message = \"Hello World\"\n",
    "\n",
    "\n",
    "\n",
    "#encrypt the message\n",
    "cypher = Encrypt(message,n,d)\n",
    "\n",
    "\n",
    "\n",
    "#decrypt the message\n",
    "decrypted_message = Decrypt(cypher,n,e)\n",
    "\n",
    "\n",
    "#print the  decrypted message\n",
    "\n",
    "print(decrypted_message)\n"
   ]
  },
  {
   "cell_type": "code",
   "execution_count": null,
   "metadata": {},
   "outputs": [],
   "source": [
    "'''\n",
    "TODO:\n",
    "1)calculate encryption time for different key lenghts \n",
    "2)plot a graph of RSA encryption time vs. Key length\n",
    "\n",
    "Note :in (1) IDK how big n should be (or how you should increase it every time) to statisfy the TA LOL\n",
    "'''\n",
    "# the code below doesn't work correctly but it might help \n",
    "# message = \"a long message\"\n",
    "# e = []\n",
    "# n = []\n",
    "# for i in range(0, 99998):\n",
    "#     #generate public and private key using each concecutive prime number in the prime array\n",
    "#     (e_i,d,n_i) = RSA_key_generator(primeArray[i],primeArray[i+1])\n",
    "#     e.append(e_i)\n",
    "#     n.append(n_i)\n",
    "# #encrypt the message using each pair of n and e and calculate the time it takes to encrypt store it in a list\n",
    "# time_list = []   \n",
    "# for i in range(0,len(e)):\n",
    "#     start = time.time()\n",
    "#     cypher = Encrypt(message,n[i],e[i])\n",
    "#     end = time.time()\n",
    "#     time_list.append(end-start)\n",
    "# #plot time vs. n\n",
    "# print(len(primeArray))\n",
    "# print(max(time_list))\n",
    "# plt.plot(n,time_list)\n",
    "\n",
    "\n"
   ]
  },
  {
   "cell_type": "code",
   "execution_count": null,
   "metadata": {},
   "outputs": [],
   "source": [
    "'''\n",
    "TODO:\n",
    "1)Implement brute force (mathematical attack) on RSA algorithm using different values for n\n",
    "2)plot a graph of Time to break the private key (in seconds) versus value of n. Discuss the results you obtain.\n",
    "\n",
    "'''\n",
    "\n",
    "\n"
   ]
  },
  {
   "cell_type": "code",
   "execution_count": null,
   "metadata": {},
   "outputs": [],
   "source": [
    "'''\n",
    "TODO:\n",
    "Implement the Chosen Cipher Text attack for RSA and justify why it happens in your report.\n",
    "Note : you will find an explanation of the chosen cipher text attack in CS (RSA CCA.pdf) this file came \n",
    "with the project document IDk if it will be of any help. \n",
    "'''"
   ]
  }
 ],
 "metadata": {
  "interpreter": {
   "hash": "11938c6bc6919ae2720b4d5011047913343b08a43b18698fd82dedb0d4417594"
  },
  "kernelspec": {
   "display_name": "Python 3.9.6 64-bit",
   "language": "python",
   "name": "python3"
  },
  "language_info": {
   "codemirror_mode": {
    "name": "ipython",
    "version": 3
   },
   "file_extension": ".py",
   "mimetype": "text/x-python",
   "name": "python",
   "nbconvert_exporter": "python",
   "pygments_lexer": "ipython3",
   "version": "3.9.6"
  },
  "orig_nbformat": 4
 },
 "nbformat": 4,
 "nbformat_minor": 2
}
