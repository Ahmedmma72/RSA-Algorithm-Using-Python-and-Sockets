{
 "cells": [
  {
   "cell_type": "code",
   "execution_count": null,
   "metadata": {},
   "outputs": [],
   "source": [
    "import random\n",
    "from utils import *\n",
    "from math import ceil ,sqrt\n",
    "import time\n",
    "import matplotlib.pyplot as plt\n",
    "import numpy as np\n",
    "\n",
    "#library to generate prime(nBits)\n",
    "#pip install pycryptodome\n",
    "from Crypto.Util.number import getPrime"
   ]
  },
  {
   "cell_type": "code",
   "execution_count": null,
   "metadata": {},
   "outputs": [],
   "source": [
    "def Encrypt(message, n, e):\n",
    "    cipher = \"\"\n",
    "    noChar =  getNumberOfChars(n)\n",
    "    maxCipherLength = len(str(n-1)) \n",
    "    for i in range(0, len(message), noChar):\n",
    "        blockToEncrypt =  ConvertToInt(message[:noChar]) #indexing outofbounds works fine in python\n",
    "        cipherdBlock = str( PowerMod(blockToEncrypt, e, n))\n",
    "        if (len(cipherdBlock) < maxCipherLength):  #make sure all cipher blocks are the same length\n",
    "            cipherdBlock = cipherdBlock.zfill(maxCipherLength)\n",
    "        cipher += cipherdBlock\n",
    "        message = message[noChar:]\n",
    "    return cipher\n",
    "    \n",
    "def Encrypt_no_split(m, n, e):\n",
    "    c = PowerMod(ConvertToInt(m),e, n)\n",
    "    return c\n",
    "    "
   ]
  },
  {
   "cell_type": "code",
   "execution_count": null,
   "metadata": {},
   "outputs": [],
   "source": [
    "def Decrypt(cipher,n, d):\n",
    "    maxCipherLength = len(str(n-1))\n",
    "    message = \"\"\n",
    "    for i in range(0, len(cipher), maxCipherLength):\n",
    "        blockToDecrypt = int(cipher[:maxCipherLength])\n",
    "        message +=  ConvertToStr( PowerMod(blockToDecrypt, d, n))\n",
    "        cipher = cipher[maxCipherLength:]\n",
    "    return message\n",
    "\n",
    "def Decrypt_no_split(c, n, d):\n",
    "    m = ConvertToStr(PowerMod( c , d , n))\n",
    "    return m"
   ]
  },
  {
   "cell_type": "code",
   "execution_count": null,
   "metadata": {},
   "outputs": [],
   "source": [
    "\n",
    "#implement RSA Algorithm to generate public and private key\n",
    "def RSA_key_generator(p,q):\n",
    "    n = p*q\n",
    "    phi = (p-1)*(q-1)\n",
    "    e = random.randint(2,phi-1)     #choose e randomly from 1 to phi\n",
    "    while  GCD(e,phi) != 1:\n",
    "        e = random.randint(2,phi-1)\n",
    "    d =  InverseModulo(e,phi)\n",
    "    return (e,d,n)"
   ]
  },
  {
   "cell_type": "code",
   "execution_count": null,
   "metadata": {},
   "outputs": [],
   "source": [
    "#generate two random integers from the array of prime numbers\n",
    "def generate_two_prime_numbers(nBits  ):\n",
    "    p = getPrime(nBits )\n",
    "    q = getPrime(nBits )\n",
    "    while p == q:\n",
    "        q = getPrime(nBits )\n",
    "    return (p,q)"
   ]
  },
  {
   "cell_type": "markdown",
   "metadata": {},
   "source": [
    "## test the RSA encryption & decryption\n"
   ]
  },
  {
   "cell_type": "code",
   "execution_count": null,
   "metadata": {},
   "outputs": [],
   "source": [
    "#genertate two random integers from the array of prime numbers\n",
    "(p,q) = generate_two_prime_numbers(1024)\n",
    "\n",
    "#generate public and private key\n",
    "(e,d,n) = RSA_key_generator(p,q)\n",
    "\n",
    "message = \"Hello world \"\n",
    "\n",
    "#encrypt the message\n",
    "cypher = Encrypt(message,n,d)\n",
    "\n",
    "#decrypt the message\n",
    "decrypted_message = Decrypt(cypher,n,e)\n",
    "\n",
    "#print the  decrypted message\n",
    "print(decrypted_message)\n"
   ]
  },
  {
   "cell_type": "markdown",
   "metadata": {},
   "source": [
    "## plot n  vs time to encrypt & decrypt"
   ]
  },
  {
   "cell_type": "code",
   "execution_count": null,
   "metadata": {},
   "outputs": [],
   "source": [
    "'''\n",
    "TODO:\n",
    "1)calculate encryption time for different key lenghts \n",
    "2)plot a graph of RSA encryption time vs. Key length\n",
    "\n",
    "Note :in (1) IDK how big n should be (or how you should increase it every time) to statisfy the TA LOL\n",
    "'''\n",
    "def gen_diff_keys(st , end):\n",
    "    n_List  =[]\n",
    "    e_List  =[]\n",
    "    d_List =[]\n",
    "    for i in range(st , end):\n",
    "        p ,q = generate_two_prime_numbers(nBits= i // 2)\n",
    "        (e,d,n) = RSA_key_generator(p,q) \n",
    "        n_List.append(n)\n",
    "        e_List.append(e)\n",
    "        d_List.append(d)\n",
    "    return n_List , d_List , e_List\n",
    "\n",
    "def get_time_encrypt_decrypt(st , end , message):\n",
    "    (n_list , d_list , e_list) =gen_diff_keys(st,end)\n",
    "    time_list = []   \n",
    "    for i in range(0,len(n_list)):\n",
    "        start  = time.time()\n",
    "        cypher = Encrypt_no_split(message,n_list[i],e_list[i])\n",
    "        msg    = Decrypt_no_split(cypher , n_list[i], d_list[i])\n",
    "        end = time.time()\n",
    "        time_list.append(end-start)\n",
    "    return time_list"
   ]
  },
  {
   "cell_type": "code",
   "execution_count": null,
   "metadata": {},
   "outputs": [],
   "source": [
    "message = \"omar mohamed ahmed \"\n",
    "st , end = 128 , 2048\n",
    "time_list = get_time_encrypt_decrypt(st , end , message)"
   ]
  },
  {
   "cell_type": "code",
   "execution_count": null,
   "metadata": {},
   "outputs": [],
   "source": [
    "key_length = np.arange(st,end)\n",
    "\n",
    "print('max time = ', max(time_list) )\n",
    "plt.plot(key_length,time_list)\n",
    "plt.show()"
   ]
  },
  {
   "cell_type": "markdown",
   "metadata": {},
   "source": [
    "## Brute Force Attack"
   ]
  },
  {
   "cell_type": "code",
   "execution_count": null,
   "metadata": {},
   "outputs": [],
   "source": [
    "'''\n",
    "TODO:\n",
    "1)Implement brute force (mathematical attack) on RSA algorithm using different values for n ✅\n",
    "2)plot a graph of Time to break the private key (in seconds) versus value of n. Discuss the results you obtain. ✅\n",
    "'''\n",
    "def get_p_q (n):\n",
    "    for i in range(2 , int(sqrt(n))):\n",
    "        if (n % i == 0) :\n",
    "            return i , n // i\n",
    "    \n",
    "def brute_force_attack (n , e , cypher ):\n",
    "    p ,q = get_p_q(n)\n",
    "    phi = (p-1) * (q-1)\n",
    "    d =  InverseModulo(e,phi)    \n",
    "    m = Decrypt(cypher , n , d)\n",
    "    return m\n",
    "    \n",
    "\n",
    "def test_brute_force(keySize , message , debug=0):\n",
    "    # generate the key\n",
    "    if debug == 1: print(f'-----------\\nstart brute force .... ') \n",
    "    if debug == 1: print(f'key Size = {keySize}....') \n",
    "    (p,q) = generate_two_prime_numbers(keySize // 2)\n",
    "    (e,d,n) = RSA_key_generator(p,q)\n",
    "    if debug == 1: print('p , q are genrated .... ') \n",
    "    \n",
    "    # encrypt the msg\n",
    "    cypher = Encrypt(message,n,e)\n",
    "    if debug == 1 : print('msg encrypted .... ')\n",
    "    \n",
    "    # do the attack \n",
    "    if debug == 1 : print('start brute force ... ')\n",
    "    attacked_msg = brute_force_attack(n, e ,cypher )\n",
    "    if debug == 1 : print('brute force done .... ')\n",
    "    \n",
    "    # print\n",
    "    if debug == 1 : print(f'attacked msg \\t|| { (attacked_msg)}')\n",
    "    if debug == 1 : print(f'real \\t\\t|| { message }')\n",
    "    if debug == 0 : return attacked_msg\n",
    "    \n"
   ]
  },
  {
   "cell_type": "code",
   "execution_count": null,
   "metadata": {},
   "outputs": [],
   "source": [
    "test_brute_force(keySize = 60 , message= \"omar asdsadaskda;sldk mohmaed\" , debug= 1)"
   ]
  },
  {
   "cell_type": "markdown",
   "metadata": {},
   "source": [
    "## plot n vs time to break n using brute force"
   ]
  },
  {
   "cell_type": "code",
   "execution_count": null,
   "metadata": {},
   "outputs": [],
   "source": [
    "message = \"omar mohamed ahmed \"\n",
    "n_start = 20\n",
    "n_end   = 128 \n",
    "\n",
    "timeList = []\n",
    "for i in range(n_start , n_end):\n",
    "    st  = time.time()\n",
    "    test_brute_force( keySize= i , message= message , debug= 1 )\n",
    "    end = time.time()\n",
    "    timeList.append(end - st)\n",
    "    print(f'msg with key {i} attacked\\n--------')\n",
    "\n",
    "print(timeList)"
   ]
  },
  {
   "cell_type": "code",
   "execution_count": null,
   "metadata": {},
   "outputs": [],
   "source": [
    "n_values = np.arange(n_start,n_end)\n",
    "plt.plot(n_values , timeList)\n",
    "plt.show()"
   ]
  },
  {
   "cell_type": "markdown",
   "metadata": {},
   "source": [
    "## Cypher Chosen Attack"
   ]
  },
  {
   "cell_type": "code",
   "execution_count": 12,
   "metadata": {},
   "outputs": [],
   "source": [
    "'''\n",
    "Steps :\n",
    "C` = C * (r^e) mod n\n",
    "Y  = decrypt(C` , d , n)\n",
    "M  = Y *(r ^-1) mod n\n",
    "'''\n",
    "def cipherChosenAttack(cipher, e ,d ,  n):\n",
    "    # 1. choose r randomly from 1 to n ->gcd(r,n) =1\n",
    "    r = random.randint(1,n)     \n",
    "    while  GCD(r,n) != 1:\n",
    "        r = random.randint(2,n)\n",
    "    # 2. calc C` = C * (r^e) mod n \n",
    "    c_dash = ( (ConvertToInt(cipher) % n)  *  (PowerMod(r, e , n)) ) % n\n",
    "    \n",
    "    # 3. calc Y = (C` ^d) % n\n",
    "    Y = PowerMod(c_dash , d , n )\n",
    "\n",
    "    # 4. get M = (Y *(r^-1)) % n \n",
    "    r_inverse =  InverseModulo(r, n)\n",
    "    M = ( Y * r_inverse) %n\n",
    "    \n",
    "    return ConvertToStr(M)\n",
    "\n",
    "def test_cipher_chosen(keySize , message):\n",
    "    p ,q =generate_two_prime_numbers(keySize // 2)\n",
    "    (e,d,n) = RSA_key_generator(p,q)\n",
    "\n",
    "    # Encrypt the Msg\n",
    "    cypher = Encrypt_no_split(message,n,e)\n",
    "\n",
    "    if (n.bit_length() < ConvertToInt(message).bit_length()):\n",
    "        print('msg is bigger than key please choose a bigger key')\n",
    "\n",
    "    else :\n",
    "        #attacked msg\n",
    "        attacked_msg = cipherChosenAttack( ConvertToStr(cypher) , e , d , n)\n",
    "        #print\n",
    "        print(f'attacked msg \\t= { (attacked_msg)}')\n",
    "        print(f'real \\t\\t= { message }')\n",
    "        print(f'n {n.bit_length()} bits\\nm {ConvertToInt(message).bit_length()} bits ')"
   ]
  },
  {
   "cell_type": "markdown",
   "metadata": {},
   "source": [
    "## Test Cipher Chosen Attack"
   ]
  },
  {
   "cell_type": "code",
   "execution_count": 13,
   "metadata": {},
   "outputs": [
    {
     "name": "stdout",
     "output_type": "stream",
     "text": [
      "attacked msg \t= omar mohamed ahmed sdfl;kjm\n",
      "real \t\t= omar mohamed ahmed sdfl;kjm\n",
      "n 4095 bits\n",
      "m 215 bits \n"
     ]
    }
   ],
   "source": [
    "message = \"omar mohamed ahmed sdfl;kjm\"\n",
    "keySize = 4096\n",
    "test_cipher_chosen(keySize , message)"
   ]
  }
 ],
 "metadata": {
  "interpreter": {
   "hash": "11938c6bc6919ae2720b4d5011047913343b08a43b18698fd82dedb0d4417594"
  },
  "kernelspec": {
   "display_name": "Python 3.9.6 64-bit",
   "language": "python",
   "name": "python3"
  },
  "language_info": {
   "codemirror_mode": {
    "name": "ipython",
    "version": 3
   },
   "file_extension": ".py",
   "mimetype": "text/x-python",
   "name": "python",
   "nbconvert_exporter": "python",
   "pygments_lexer": "ipython3",
   "version": "3.9.6"
  },
  "orig_nbformat": 4
 },
 "nbformat": 4,
 "nbformat_minor": 2
}
